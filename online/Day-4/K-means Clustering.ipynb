{
 "cells": [
  {
   "cell_type": "markdown",
   "metadata": {},
   "source": [
    "Unsupervisd Learning K means Clustering\n",
    "\n"
   ]
  },
  {
   "cell_type": "code",
   "execution_count": 25,
   "metadata": {},
   "outputs": [],
   "source": [
    "#importing necesssery \n",
    "import pandas as pd\n",
    "import numpy as np\n",
    "import matplotlib.pyplot as plt\n",
    "from sklearn.cluster import KMeans\n",
    "from sklearn.preprocessing import StandardScaler\n",
    "from sklearn.metrics import silhouette_score\n",
    "import seaborn as sns\n",
    "\n"
   ]
  },
  {
   "cell_type": "code",
   "execution_count": 26,
   "metadata": {},
   "outputs": [
    {
     "data": {
      "text/html": [
       "<div>\n",
       "<style scoped>\n",
       "    .dataframe tbody tr th:only-of-type {\n",
       "        vertical-align: middle;\n",
       "    }\n",
       "\n",
       "    .dataframe tbody tr th {\n",
       "        vertical-align: top;\n",
       "    }\n",
       "\n",
       "    .dataframe thead th {\n",
       "        text-align: right;\n",
       "    }\n",
       "</style>\n",
       "<table border=\"1\" class=\"dataframe\">\n",
       "  <thead>\n",
       "    <tr style=\"text-align: right;\">\n",
       "      <th></th>\n",
       "      <th>temperature</th>\n",
       "      <th>humidity</th>\n",
       "      <th>wind_speed</th>\n",
       "      <th>carbon_emissions</th>\n",
       "      <th>solar_irradiance</th>\n",
       "      <th>pollution_level</th>\n",
       "    </tr>\n",
       "  </thead>\n",
       "  <tbody>\n",
       "    <tr>\n",
       "      <th>0</th>\n",
       "      <td>22.490802</td>\n",
       "      <td>52.418449</td>\n",
       "      <td>19.599966</td>\n",
       "      <td>337.165056</td>\n",
       "      <td>369.020837</td>\n",
       "      <td>84.723658</td>\n",
       "    </tr>\n",
       "    <tr>\n",
       "      <th>1</th>\n",
       "      <td>34.014286</td>\n",
       "      <td>49.974726</td>\n",
       "      <td>8.690240</td>\n",
       "      <td>256.681604</td>\n",
       "      <td>185.335998</td>\n",
       "      <td>49.451704</td>\n",
       "    </tr>\n",
       "    <tr>\n",
       "      <th>2</th>\n",
       "      <td>29.639879</td>\n",
       "      <td>40.569235</td>\n",
       "      <td>11.932794</td>\n",
       "      <td>484.024336</td>\n",
       "      <td>213.723302</td>\n",
       "      <td>19.546561</td>\n",
       "    </tr>\n",
       "    <tr>\n",
       "      <th>3</th>\n",
       "      <td>26.973170</td>\n",
       "      <td>66.436000</td>\n",
       "      <td>18.265613</td>\n",
       "      <td>148.540303</td>\n",
       "      <td>262.604015</td>\n",
       "      <td>73.664179</td>\n",
       "    </tr>\n",
       "    <tr>\n",
       "      <th>4</th>\n",
       "      <td>18.120373</td>\n",
       "      <td>58.597450</td>\n",
       "      <td>14.641787</td>\n",
       "      <td>314.535387</td>\n",
       "      <td>283.288001</td>\n",
       "      <td>41.867814</td>\n",
       "    </tr>\n",
       "    <tr>\n",
       "      <th>...</th>\n",
       "      <td>...</td>\n",
       "      <td>...</td>\n",
       "      <td>...</td>\n",
       "      <td>...</td>\n",
       "      <td>...</td>\n",
       "      <td>...</td>\n",
       "    </tr>\n",
       "    <tr>\n",
       "      <th>9995</th>\n",
       "      <td>32.153120</td>\n",
       "      <td>82.622318</td>\n",
       "      <td>24.045509</td>\n",
       "      <td>389.315259</td>\n",
       "      <td>660.200681</td>\n",
       "      <td>96.614073</td>\n",
       "    </tr>\n",
       "    <tr>\n",
       "      <th>9996</th>\n",
       "      <td>32.950177</td>\n",
       "      <td>32.808837</td>\n",
       "      <td>19.956484</td>\n",
       "      <td>394.037121</td>\n",
       "      <td>303.574216</td>\n",
       "      <td>37.323996</td>\n",
       "    </tr>\n",
       "    <tr>\n",
       "      <th>9997</th>\n",
       "      <td>33.934158</td>\n",
       "      <td>48.221908</td>\n",
       "      <td>5.389117</td>\n",
       "      <td>171.306244</td>\n",
       "      <td>774.095576</td>\n",
       "      <td>30.467486</td>\n",
       "    </tr>\n",
       "    <tr>\n",
       "      <th>9998</th>\n",
       "      <td>22.949760</td>\n",
       "      <td>56.599200</td>\n",
       "      <td>13.020097</td>\n",
       "      <td>245.443897</td>\n",
       "      <td>568.909821</td>\n",
       "      <td>40.736253</td>\n",
       "    </tr>\n",
       "    <tr>\n",
       "      <th>9999</th>\n",
       "      <td>19.342808</td>\n",
       "      <td>40.335889</td>\n",
       "      <td>10.147960</td>\n",
       "      <td>269.340664</td>\n",
       "      <td>875.536039</td>\n",
       "      <td>52.283339</td>\n",
       "    </tr>\n",
       "  </tbody>\n",
       "</table>\n",
       "<p>10000 rows × 6 columns</p>\n",
       "</div>"
      ],
      "text/plain": [
       "      temperature   humidity  ...  solar_irradiance  pollution_level\n",
       "0       22.490802  52.418449  ...        369.020837        84.723658\n",
       "1       34.014286  49.974726  ...        185.335998        49.451704\n",
       "2       29.639879  40.569235  ...        213.723302        19.546561\n",
       "3       26.973170  66.436000  ...        262.604015        73.664179\n",
       "4       18.120373  58.597450  ...        283.288001        41.867814\n",
       "...           ...        ...  ...               ...              ...\n",
       "9995    32.153120  82.622318  ...        660.200681        96.614073\n",
       "9996    32.950177  32.808837  ...        303.574216        37.323996\n",
       "9997    33.934158  48.221908  ...        774.095576        30.467486\n",
       "9998    22.949760  56.599200  ...        568.909821        40.736253\n",
       "9999    19.342808  40.335889  ...        875.536039        52.283339\n",
       "\n",
       "[10000 rows x 6 columns]"
      ]
     },
     "execution_count": 26,
     "metadata": {},
     "output_type": "execute_result"
    }
   ],
   "source": [
    "#load data set\n",
    "\n",
    "\n",
    "df=pd.read_csv('environmental_factors.csv')\n",
    "\n",
    "df"
   ]
  },
  {
   "cell_type": "code",
   "execution_count": 27,
   "metadata": {},
   "outputs": [
    {
     "name": "stdout",
     "output_type": "stream",
     "text": [
      "   temperature  humidity  ...  solar_irradiance  pollution_level\n",
      "0    -0.415900 -0.452465  ...         -0.684316         1.193409\n",
      "1     1.587377 -0.593258  ...         -1.389866        -0.029923\n",
      "2     0.826917 -1.135149  ...         -1.280827        -1.067119\n",
      "3     0.363328  0.355146  ...         -1.093072         0.809835\n",
      "4    -1.175669 -0.096466  ...         -1.013623        -0.292954\n",
      "\n",
      "[5 rows x 6 columns]\n"
     ]
    }
   ],
   "source": [
    "scaler=StandardScaler()\n",
    "scaled_df=scaler.fit_transform(df)\n",
    "print(pd.DataFrame(scaled_df,columns=df.columns).head())\n"
   ]
  },
  {
   "cell_type": "code",
   "execution_count": 28,
   "metadata": {},
   "outputs": [
    {
     "data": {
      "image/png": "[encoded data removed]",
      "text/plain": [
       "<Figure size 640x480 with 1 Axes>"
      ]
     },
     "metadata": {},
     "output_type": "display_data"
    }
   ],
   "source": [
    "#use elbow method to find the optimal no. of clusters\n",
    "inertia=[]\n",
    "k_range=range(1,11)\n",
    "for k in k_range:\n",
    "    kmeans=KMeans(n_clusters=k,random_state=42)\n",
    "    kmeans.fit(scaled_df)\n",
    "    inertia.append(kmeans.inertia_)\n",
    "plt.plot(k_range,inertia,marker='o')\n",
    "plt.title('elbow Method')\n",
    "plt.xlabel('Number of Clusters(k)')\n",
    "plt.ylabel('Inertia')\n",
    "plt.show()"
   ]
  },
  {
   "cell_type": "code",
   "execution_count": 29,
   "metadata": {},
   "outputs": [
    {
     "data": {
      "text/html": [
       "<div>\n",
       "<style scoped>\n",
       "    .dataframe tbody tr th:only-of-type {\n",
       "        vertical-align: middle;\n",
       "    }\n",
       "\n",
       "    .dataframe tbody tr th {\n",
       "        vertical-align: top;\n",
       "    }\n",
       "\n",
       "    .dataframe thead th {\n",
       "        text-align: right;\n",
       "    }\n",
       "</style>\n",
       "<table border=\"1\" class=\"dataframe\">\n",
       "  <thead>\n",
       "    <tr style=\"text-align: right;\">\n",
       "      <th></th>\n",
       "      <th>temperature</th>\n",
       "      <th>humidity</th>\n",
       "      <th>wind_speed</th>\n",
       "      <th>carbon_emissions</th>\n",
       "      <th>solar_irradiance</th>\n",
       "      <th>pollution_level</th>\n",
       "      <th>cluster</th>\n",
       "    </tr>\n",
       "  </thead>\n",
       "  <tbody>\n",
       "    <tr>\n",
       "      <th>0</th>\n",
       "      <td>22.490802</td>\n",
       "      <td>52.418449</td>\n",
       "      <td>19.599966</td>\n",
       "      <td>337.165056</td>\n",
       "      <td>369.020837</td>\n",
       "      <td>84.723658</td>\n",
       "      <td>6</td>\n",
       "    </tr>\n",
       "    <tr>\n",
       "      <th>1</th>\n",
       "      <td>34.014286</td>\n",
       "      <td>49.974726</td>\n",
       "      <td>8.690240</td>\n",
       "      <td>256.681604</td>\n",
       "      <td>185.335998</td>\n",
       "      <td>49.451704</td>\n",
       "      <td>5</td>\n",
       "    </tr>\n",
       "    <tr>\n",
       "      <th>2</th>\n",
       "      <td>29.639879</td>\n",
       "      <td>40.569235</td>\n",
       "      <td>11.932794</td>\n",
       "      <td>484.024336</td>\n",
       "      <td>213.723302</td>\n",
       "      <td>19.546561</td>\n",
       "      <td>6</td>\n",
       "    </tr>\n",
       "    <tr>\n",
       "      <th>3</th>\n",
       "      <td>26.973170</td>\n",
       "      <td>66.436000</td>\n",
       "      <td>18.265613</td>\n",
       "      <td>148.540303</td>\n",
       "      <td>262.604015</td>\n",
       "      <td>73.664179</td>\n",
       "      <td>4</td>\n",
       "    </tr>\n",
       "    <tr>\n",
       "      <th>4</th>\n",
       "      <td>18.120373</td>\n",
       "      <td>58.597450</td>\n",
       "      <td>14.641787</td>\n",
       "      <td>314.535387</td>\n",
       "      <td>283.288001</td>\n",
       "      <td>41.867814</td>\n",
       "      <td>6</td>\n",
       "    </tr>\n",
       "  </tbody>\n",
       "</table>\n",
       "</div>"
      ],
      "text/plain": [
       "   temperature   humidity  ...  pollution_level  cluster\n",
       "0    22.490802  52.418449  ...        84.723658        6\n",
       "1    34.014286  49.974726  ...        49.451704        5\n",
       "2    29.639879  40.569235  ...        19.546561        6\n",
       "3    26.973170  66.436000  ...        73.664179        4\n",
       "4    18.120373  58.597450  ...        41.867814        6\n",
       "\n",
       "[5 rows x 7 columns]"
      ]
     },
     "execution_count": 29,
     "metadata": {},
     "output_type": "execute_result"
    }
   ],
   "source": [
    "#Applying k means clustering with k=7\n",
    "k=7\n",
    "kmeans=KMeans(n_clusters=k,random_state=(42))\n",
    "\n",
    "df['cluster']=kmeans.fit_predict(scaled_df)\n",
    "df.head()"
   ]
  },
  {
   "cell_type": "code",
   "execution_count": 2,
   "metadata": {},
   "outputs": [
    {
     "ename": "NameError",
     "evalue": "name 'silhouette_score' is not defined",
     "output_type": "error",
     "traceback": [
      "\u001b[0;31m---------------------------------------------------------------------------\u001b[0m",
      "\u001b[0;31mNameError\u001b[0m                                 Traceback (most recent call last)",
      "Cell \u001b[0;32mIn[2], line 2\u001b[0m\n\u001b[1;32m      1\u001b[0m \u001b[38;5;66;03m#calculate th silhoutte score\u001b[39;00m\n\u001b[0;32m----> 2\u001b[0m sil_score\u001b[38;5;241m=\u001b[39m\u001b[43msilhouette_score\u001b[49m(scaled_df,df[\u001b[38;5;124m'\u001b[39m\u001b[38;5;124mcluster\u001b[39m\u001b[38;5;124m'\u001b[39m])\n\u001b[1;32m      3\u001b[0m \u001b[38;5;28mprint\u001b[39m(\u001b[38;5;124mf\u001b[39m\u001b[38;5;124m'\u001b[39m\u001b[38;5;124mSilhoutte Score: \u001b[39m\u001b[38;5;132;01m{\u001b[39;00msil_score\u001b[38;5;132;01m}\u001b[39;00m\u001b[38;5;124m'\u001b[39m)\n",
      "\u001b[0;31mNameError\u001b[0m: name 'silhouette_score' is not defined"
     ]
    }
   ],
   "source": [
    "#calculate th silhoutte score\n",
    "sil_score=silhouette_score(scaled_df,df['cluster'])\n",
    "print(f'Silhoutte Score: {sil_score}')\n"
   ]
  },
  {
   "cell_type": "code",
   "execution_count": 1,
   "metadata": {},
   "outputs": [
    {
     "ename": "NameError",
     "evalue": "name 'plt' is not defined",
     "output_type": "error",
     "traceback": [
      "\u001b[0;31m---------------------------------------------------------------------------\u001b[0m",
      "\u001b[0;31mNameError\u001b[0m                                 Traceback (most recent call last)",
      "Cell \u001b[0;32mIn[1], line 1\u001b[0m\n\u001b[0;32m----> 1\u001b[0m \u001b[43mplt\u001b[49m\u001b[38;5;241m.\u001b[39mfigure(figsize\u001b[38;5;241m=\u001b[39m(\u001b[38;5;241m8\u001b[39m,\u001b[38;5;241m6\u001b[39m))\n\u001b[1;32m      2\u001b[0m sns\u001b[38;5;241m.\u001b[39mscatterplot(x\u001b[38;5;241m=\u001b[39m\u001b[38;5;124m'\u001b[39m\u001b[38;5;124mcarbon_emission\u001b[39m\u001b[38;5;124m'\u001b[39m,y\u001b[38;5;241m=\u001b[39m\u001b[38;5;124m'\u001b[39m\u001b[38;5;124mpollution_level\u001b[39m\u001b[38;5;124m'\u001b[39m,hue\u001b[38;5;241m=\u001b[39m\u001b[38;5;124m'\u001b[39m\u001b[38;5;124mcluster\u001b[39m\u001b[38;5;124m'\u001b[39m,data\u001b[38;5;241m=\u001b[39mdf,palette\u001b[38;5;241m=\u001b[39m\u001b[38;5;124m'\u001b[39m\u001b[38;5;124mviridus\u001b[39m\u001b[38;5;124m'\u001b[39m, s\u001b[38;5;241m=\u001b[39m\u001b[38;5;241m100\u001b[39m,alpha\u001b[38;5;241m=\u001b[39m\u001b[38;5;241m0.7\u001b[39m, edgecolour\u001b[38;5;241m=\u001b[39m\u001b[38;5;124m'\u001b[39m\u001b[38;5;124mk\u001b[39m\u001b[38;5;124m'\u001b[39m)\n\u001b[1;32m      3\u001b[0m plt\u001b[38;5;241m.\u001b[39mtitle(\u001b[38;5;124m'\u001b[39m\u001b[38;5;124mK-means Clusturing of Environmental Factors\u001b[39m\u001b[38;5;124m'\u001b[39m)\n",
      "\u001b[0;31mNameError\u001b[0m: name 'plt' is not defined"
     ]
    }
   ],
   "source": [
    "\n",
    "plt.figure(figsize=(8,6))\n",
    "sns.scatterplot(x='carbon_emission',y='pollution_level',hue='cluster',data=df,palette='viridus', s=100,alpha=0.7, edgecolour='k')\n",
    "plt.title('K-means Clusturing of Environmental Factors')\n",
    "plt.xlabel('Carbon Emission')\n",
    "plt.ylabel('pollution Level')\n",
    "plt.legend(title='Cluster',bbox_toanchor=(1.05,1),loc='upper left')\n",
    "plt.show()"
   ]
  },
  {
   "cell_type": "code",
   "execution_count": null,
   "metadata": {},
   "outputs": [],
   "source": []
  },
  {
   "cell_type": "code",
   "execution_count": null,
   "metadata": {},
   "outputs": [],
   "source": []
  }
 ],
 "metadata": {
  "kernelspec": {
   "display_name": ".venv",
   "language": "python",
   "name": "python3"
  },
  "language_info": {
   "codemirror_mode": {
    "name": "ipython",
    "version": 3
   },
   "file_extension": ".py",
   "mimetype": "text/x-python",
   "name": "python",
   "nbconvert_exporter": "python",
   "pygments_lexer": "ipython3",
   "version": "3.12.3"
  }
 },
 "nbformat": 4,
 "nbformat_minor": 2
}
